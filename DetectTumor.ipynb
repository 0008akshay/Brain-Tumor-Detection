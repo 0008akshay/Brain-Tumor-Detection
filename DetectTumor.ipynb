{
 "cells": [
  {
   "cell_type": "code",
   "execution_count": null,
   "id": "69e52a90",
   "metadata": {},
   "outputs": [],
   "source": [
    "import numpy as np\n",
    "import cv2 as cv\n",
    "\n",
    "\n",
    "class DisplayTumor:\n",
    "    curImg = 0\n",
    "    Img = 0\n",
    "\n",
    "    def readImage(self, img):\n",
    "        self.Img = np.array(img)\n",
    "        self.curImg = np.array(img)\n",
    "        gray = cv.cvtColor(np.array(img), cv.COLOR_BGR2GRAY)\n",
    "        self.ret, self.thresh = cv.threshold(gray, 0, 255, cv.THRESH_BINARY_INV + cv.THRESH_OTSU)\n",
    "\n",
    "    def getImage(self):\n",
    "        return self.curImg\n",
    "\n",
    "    # noise removal\n",
    "    def removeNoise(self):\n",
    "        self.kernel = np.ones((3, 3), np.uint8)\n",
    "        opening = cv.morpholo/gyEx(self.thresh, cv.MORPH_OPEN, self.kernel, iterations=2)\n",
    "        self.curImg = opening\n",
    "\n",
    "    def displayTumor(self):\n",
    "        # sure background area\n",
    "        sure_bg = cv.dilate(self.curImg, self.kernel, iterations=3)\n",
    "\n",
    "        # Finding sure foreground area\n",
    "        dist_transform = cv.distanceTransform(self.curImg, cv.DIST_L2, 5)\n",
    "        ret, sure_fg = cv.threshold(dist_transform, 0.7 * dist_transform.max(), 255, 0)\n",
    "\n",
    "        # Find unknown region\n",
    "        sure_fg = np.uint8(sure_fg)\n",
    "        unknown = cv.subtract(sure_bg, sure_fg)\n",
    "\n",
    "        # Marker labelling\n",
    "        ret, markers = cv.connectedComponents(sure_fg)\n",
    "\n",
    "        # Add one to all labels so that sure background is not 0, but 1\n",
    "        markers = markers + 1\n",
    "\n",
    "        # Now mark the region of unknown with zero\n",
    "        markers[unknown == 255] = 0\n",
    "        markers = cv.watershed(self.Img, markers)\n",
    "        self.Img[markers == -1] = [255, 0, 0]\n",
    "\n",
    "        tumorImage = cv.cvtColor(self.Img, cv.COLOR_HSV2BGR)\n",
    "        self.curImg = tumorImage"
   ]
  }
 ],
 "metadata": {
  "kernelspec": {
   "display_name": "Python 3 (ipykernel)",
   "language": "python",
   "name": "python3"
  },
  "language_info": {
   "codemirror_mode": {
    "name": "ipython",
    "version": 3
   },
   "file_extension": ".py",
   "mimetype": "text/x-python",
   "name": "python",
   "nbconvert_exporter": "python",
   "pygments_lexer": "ipython3",
   "version": "3.10.6"
  }
 },
 "nbformat": 4,
 "nbformat_minor": 5
}
